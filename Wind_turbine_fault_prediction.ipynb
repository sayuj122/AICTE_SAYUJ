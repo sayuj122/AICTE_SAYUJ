{
 "cells": [
  {
   "cell_type": "code",
   "execution_count": 4,
   "id": "c87213b5-9b25-4940-ad87-2c3f8c36717a",
   "metadata": {},
   "outputs": [],
   "source": [
    "import pandas as pd\n",
    "import numpy as np\n",
    "import seaborn as sns\n",
    "import matplotlib.pyplot as plt\n",
    "from sklearn.model_selection import train_test_split\n",
    "from sklearn.preprocessing import StandardScaler\n",
    "from imblearn.under_sampling import RandomUnderSampler\n",
    "from xgboost import XGBClassifier\n",
    "from sklearn.metrics import (\n",
    "    accuracy_score,\n",
    "    recall_score,\n",
    "    precision_score,\n",
    "    f1_score,\n",
    "    confusion_matrix,\n",
    "    classification_report\n",
    ")\n",
    "\n",
    "# 1. Load and Prepare Data\n",
    "# Load the training dataset from the specified path\n",
    "try:\n",
    "    df_train = pd.read_csv(\"Dataset.csv\")\n",
    "except FileNotFoundError:\n",
    "    print(\"Error: Train.csv not found. Please check the file path.\")\n",
    "    exit()"
   ]
  },
  {
   "cell_type": "code",
   "execution_count": 5,
   "id": "765610fa-9b74-4836-ac36-5657ee5c48ea",
   "metadata": {},
   "outputs": [
    {
     "name": "stdout",
     "output_type": "stream",
     "text": [
      "Splitting the dataset into training (80%) and validation (20%) sets...\n",
      "Training set shape: (16000, 40)\n",
      "Validation set shape: (4000, 40)\n",
      "\n",
      "Applying RandomUnderSampler to balance the training data...\n",
      "Shape of resampled training data: (1776, 40)\n",
      "\n",
      "Scaling features using StandardScaler...\n",
      "Scaling complete.\n",
      "\n"
     ]
    }
   ],
   "source": [
    "# Minimal preprocessing: Fill missing values with the mean of their respective columns\n",
    "df_train['V1'].fillna(df_train['V1'].mean())\n",
    "df_train['V2'].fillna(df_train['V2'].mean())\n",
    "\n",
    "# Separate the features (X) from the target variable (y)\n",
    "X = df_train.drop('Target', axis=1)\n",
    "y = df_train['Target']\n",
    "\n",
    "# 2. Splitting the Dataset\n",
    "# Split the data into a training set (80%) and a validation set (20%)\n",
    "# Using stratify=y ensures that both train and validation sets have a similar proportion of target classes\n",
    "print(\"Splitting the dataset into training (80%) and validation (20%) sets...\")\n",
    "X_train, X_valid, y_train, y_valid = train_test_split(\n",
    "    X, y, test_size=0.2, random_state=42, stratify=y\n",
    ")\n",
    "print(f\"Training set shape: {X_train.shape}\")\n",
    "print(f\"Validation set shape: {X_valid.shape}\\n\")\n",
    "\n",
    "# 3. Handle Class Imbalance using Undersampling \n",
    "# The notebook showed the data is highly imbalanced. We'll use RandomUnderSampler on the training data.\n",
    "print(\"Applying RandomUnderSampler to balance the training data...\")\n",
    "rus = RandomUnderSampler(random_state=42)\n",
    "X_train_resampled, y_train_resampled = rus.fit_resample(X_train, y_train)\n",
    "print(f\"Shape of resampled training data: {X_train_resampled.shape}\\n\")\n",
    "\n",
    "# 4. Feature Scaling \n",
    "# Scale the features to have zero mean and unit variance for better model performance\n",
    "print(\"Scaling features using StandardScaler...\")\n",
    "scaler = StandardScaler()\n",
    "X_train_scaled = scaler.fit_transform(X_train_resampled)\n",
    "X_valid_scaled = scaler.transform(X_valid) # Use the same scaler fitted on the training data\n",
    "print(\"Scaling complete.\\n\")"
   ]
  },
  {
   "cell_type": "code",
   "execution_count": null,
   "id": "2b97f92a-5d1e-4f85-8e51-11e5b7e2f556",
   "metadata": {},
   "outputs": [
    {
     "name": "stdout",
     "output_type": "stream",
     "text": [
      "Training the XGBClassifier model...\n"
     ]
    },
    {
     "name": "stdout",
     "output_type": "stream",
     "text": [
      "Model training complete.\n",
      "\n",
      "Model Validation Results on the 20% Hold-Out Set\n",
      "Accuracy:  0.8285\n",
      "Recall:    0.9234  <-- Primary metric to maximize\n",
      "Precision: 0.2346\n",
      "F1-Score:  0.3741\n",
      "\n",
      "Classification Report:\n",
      "              precision    recall  f1-score   support\n",
      "\n",
      "           0       0.99      0.82      0.90      3778\n",
      "           1       0.23      0.92      0.37       222\n",
      "\n",
      "    accuracy                           0.83      4000\n",
      "   macro avg       0.61      0.87      0.64      4000\n",
      "weighted avg       0.95      0.83      0.87      4000\n",
      "\n",
      "Confusion Matrix:\n"
     ]
    },
    {
     "data": {
      "image/png": "[encoded data removed]",
      "text/plain": [
       "<Figure size 640x480 with 2 Axes>"
      ]
     },
     "metadata": {},
     "output_type": "display_data"
    }
   ],
   "source": [
    "# 5. Model Training \n",
    "# Initialize and train the XGBoost Classifier model\n",
    "# These parameters are based on the tuned model from the notebook for best recall\n",
    "print(\"Training the XGBClassifier model...\")\n",
    "xgb_model = XGBClassifier(\n",
    "    random_state=1,\n",
    "    eval_metric='logloss',\n",
    "    subsample=0.9,\n",
    "    scale_pos_weight=10,  # Important for imbalanced classes\n",
    "    n_estimators=200,\n",
    "    learning_rate=0.2,\n",
    "    gamma=5 \n",
    ")\n",
    "\n",
    "xgb_model.fit(X_train_scaled, y_train_resampled)\n",
    "print(\"Model training complete.\\n\")\n",
    "\n",
    "#  6. Model Validation \n",
    "# Make predictions on the validation set (unseen data)\n",
    "print(\"Model Validation Results on the 20% Hold-Out Set\")\n",
    "y_pred_valid = xgb_model.predict(X_valid_scaled)\n",
    "\n",
    "# Calculate and print performance metrics\n",
    "accuracy = accuracy_score(y_valid, y_pred_valid)\n",
    "recall = recall_score(y_valid, y_pred_valid)\n",
    "precision = precision_score(y_valid, y_pred_valid)\n",
    "f1 = f1_score(y_valid, y_pred_valid)\n",
    "\n",
    "\n",
    "print(f\"Accuracy:  {accuracy:.4f}\")\n",
    "print(f\"Recall:    {recall:.4f}  <-- Primary metric to maximize\")\n",
    "print(f\"Precision: {precision:.4f}\")\n",
    "print(f\"F1-Score:  {f1:.4f}\\n\")\n",
    "\n",
    "# Print a detailed classification report\n",
    "print(\"Classification Report:\")\n",
    "print(classification_report(y_valid, y_pred_valid))\n",
    "\n",
    "# Display the confusion matrix to visualize performance\n",
    "print(\"Confusion Matrix:\")\n",
    "cm = confusion_matrix(y_valid, y_pred_valid)\n",
    "sns.heatmap(cm, annot=True, fmt='d', cmap='Blues')\n",
    "plt.xlabel('Predicted Label')\n",
    "plt.ylabel('True Label')\n",
    "plt.title('Validation Set Confusion Matrix')\n",
    "plt.show()"
   ]
  }
 ],
 "metadata": {
  "kernelspec": {
   "display_name": "Python 3",
   "language": "python",
   "name": "python3"
  },
  "language_info": {
   "codemirror_mode": {
    "name": "ipython",
    "version": 3
   },
   "file_extension": ".py",
   "mimetype": "text/x-python",
   "name": "python",
   "nbconvert_exporter": "python",
   "pygments_lexer": "ipython3",
   "version": "3.12.1"
  }
 },
 "nbformat": 4,
 "nbformat_minor": 5
}
